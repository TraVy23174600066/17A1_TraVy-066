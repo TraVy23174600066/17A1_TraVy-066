{
 "cells": [
  {
   "cell_type": "code",
   "execution_count": null,
   "metadata": {
    "vscode": {
     "languageId": "plaintext"
    }
   },
   "outputs": [],
   "source": [
    "import numpy as np\n",
    "np.random.seed(0)  \n",
    "nhiet_do = np.round(np.random.uniform(15, 35, 30), 2) \n",
    "\n",
    "# Tính nhiệt độ trung bình\n",
    "nhiet_do_tb = np.mean(nhiet_do)\n",
    "\n",
    "print(\"Nhiệt độ:\", nhiet_do)\n",
    "print(f\"Nhiệt độ trung bình: {nhiet_do_tb:.2f}°C\")\n",
    "\n",
    "# Tìm ngày có nhiệt độ cao nhất và thấp nhất\n",
    "ngay_max = np.argmax(nhiet_do) + 1  # Cộng 1 để lấy chỉ số ngày\n",
    "ngay_min = np.argmin(nhiet_do) + 1\n",
    "\n",
    "# Tính chênh lệch nhiệt độ giữa các ngày\n",
    "chenh_lech = nhiet_do[1:] - nhiet_do[:-1]\n",
    "ngay_max_chenh_lech = np.argmax(chenh_lech) + 1\n",
    "\n",
    "print(f\"Nhiệt độ cao nhất: {nhiet_do[ngay_max - 1]:.2f}°C vào ngày {ngay_max}\")\n",
    "print(f\"Nhiệt độ thấp nhất: {nhiet_do[ngay_min - 1]:.2f}°C vào ngày {ngay_min}\")\n",
    "print(f\"Ngày có chênh lệch nhiệt độ lớn nhất: Ngày {ngay_max_chenh_lech} ({chenh_lech[ngay_max_chenh_lech - 1]:.2f}°C)\")\n",
    "\n",
    "# Các ngày có nhiệt độ trên 20°C\n",
    "ngay_tren_20 = np.where(nhiet_do > 20)[0] + 1\n",
    "\n",
    "# Nhiệt độ của các ngày cụ thể\n",
    "ngay_can_kiem_tra = [5, 10, 15, 20, 25]\n",
    "nhiet_do_cac_ngay = nhiet_do[[d - 1 for d in ngay_can_kiem_tra]]\n",
    "\n",
    "# Nhiệt độ trên trung bình\n",
    "nhiet_do_tren_tb = nhiet_do[nhiet_do > nhiet_do_tb]\n",
    "\n",
    "# Nhiệt độ của các ngày chẵn và lẻ\n",
    "nhiet_do_ngay_chan = nhiet_do[1::2]  \n",
    "nhiet_do_ngay_le = nhiet_do[0::2]  \n",
    "\n",
    "print(\"Các ngày có nhiệt độ trên 20°C:\", ngay_tren_20)\n",
    "print(\"Nhiệt độ các ngày 5, 10, 15, 20 và 25:\", nhiet_do_cac_ngay)\n",
    "print(\"Nhiệt độ trên trung bình:\", nhiet_do_tren_tb)\n",
    "print(\"Nhiệt độ các ngày chẵn:\", nhiet_do_ngay_chan)\n",
    "print(\"Nhiệt độ các ngày lẻ:\", nhiet_do_ngay_le)"
   ]
  }
 ],
 "metadata": {
  "language_info": {
   "name": "python"
  }
 },
 "nbformat": 4,
 "nbformat_minor": 2
}
